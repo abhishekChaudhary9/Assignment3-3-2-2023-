{
 "cells": [
  {
   "cell_type": "raw",
   "id": "0e0dc0b0",
   "metadata": {},
   "source": [
    "ABHISHEK CHAUDHARY"
   ]
  },
  {
   "cell_type": "markdown",
   "id": "94fd959b",
   "metadata": {},
   "source": [
    "#### 1. Which keyword is used to create a function? Create a function to return a list of odd numbers in the range of 1 to 25"
   ]
  },
  {
   "cell_type": "raw",
   "id": "196e6753",
   "metadata": {},
   "source": [
    "def keyword is used to create a function"
   ]
  },
  {
   "cell_type": "code",
   "execution_count": 11,
   "id": "4e3bede3",
   "metadata": {},
   "outputs": [],
   "source": [
    "def oddlist():\n",
    "    l=[]\n",
    "    for i in range(1,26,2):\n",
    "        l.append(i)\n",
    "    return(l)"
   ]
  },
  {
   "cell_type": "code",
   "execution_count": 12,
   "id": "23ddf511",
   "metadata": {
    "scrolled": true
   },
   "outputs": [
    {
     "data": {
      "text/plain": [
       "[1, 3, 5, 7, 9, 11, 13, 15, 17, 19, 21, 23, 25]"
      ]
     },
     "execution_count": 12,
     "metadata": {},
     "output_type": "execute_result"
    }
   ],
   "source": [
    "oddlist()"
   ]
  },
  {
   "cell_type": "markdown",
   "id": "3bc6a56a",
   "metadata": {},
   "source": []
  },
  {
   "cell_type": "raw",
   "id": "4803e3e0",
   "metadata": {},
   "source": [
    "2. Why  *args and **kwargs is used in some functions? Create a function each for  *args and **kwargs to demonstrate their use."
   ]
  },
  {
   "cell_type": "markdown",
   "id": "846f7381",
   "metadata": {},
   "source": [
    "We use *args in parameter of a function to receive multiple inputs; and return it as a tuple.\n",
    "We use **kwargs in parameter of a function to receive key value pairs; and return it as a dictionary."
   ]
  },
  {
   "cell_type": "code",
   "execution_count": 13,
   "id": "2db30da2",
   "metadata": {},
   "outputs": [],
   "source": [
    "def test1(*multipleinputs,a=9):\n",
    "    return multipleinputs,a"
   ]
  },
  {
   "cell_type": "code",
   "execution_count": 14,
   "id": "55ee72e4",
   "metadata": {},
   "outputs": [
    {
     "data": {
      "text/plain": [
       "((123123, 2342342323424), 9)"
      ]
     },
     "execution_count": 14,
     "metadata": {},
     "output_type": "execute_result"
    }
   ],
   "source": [
    "test(123123,2342342323424)"
   ]
  },
  {
   "cell_type": "code",
   "execution_count": 17,
   "id": "0a8c695c",
   "metadata": {},
   "outputs": [],
   "source": [
    "def test2(**kwargs):\n",
    "    return kwargs"
   ]
  },
  {
   "cell_type": "code",
   "execution_count": 19,
   "id": "5fa62a03",
   "metadata": {},
   "outputs": [
    {
     "data": {
      "text/plain": [
       "{'a': [1, 2, 3, 4], 'b': 'abhi', 'c': 23.45}"
      ]
     },
     "execution_count": 19,
     "metadata": {},
     "output_type": "execute_result"
    }
   ],
   "source": [
    "test2(a=[1,2,3,4],b=\"abhi\",c=23.45)"
   ]
  },
  {
   "cell_type": "markdown",
   "id": "d6e2d2cb",
   "metadata": {},
   "source": [
    "#### 3. What is an iterator in Python? Name the method used to initialise the iterator object and the method used for iteration. Use these methods to print the first five elements of the given list [2,4,6,8,10,12,14,16,18,20]"
   ]
  },
  {
   "cell_type": "markdown",
   "id": "efa9d5e2",
   "metadata": {},
   "source": [
    "Iterator: it is a type of object or data in which we can call next function and travere its all sequential next elements.\n",
    "Iterable: the data or object which can be converted to an iterable(usung iter function).\n",
    "Iterable data comes with Python interpreter software itself.\n",
    "Because str is iterable so it can be converted to iterator.\n",
    "Because int is not iterable so it cannot be converted to iterator."
   ]
  },
  {
   "cell_type": "code",
   "execution_count": 3,
   "id": "a8fcf1f4",
   "metadata": {},
   "outputs": [],
   "source": [
    "a=list(range(2,21,2))"
   ]
  },
  {
   "cell_type": "code",
   "execution_count": 17,
   "id": "cd0f9381",
   "metadata": {},
   "outputs": [],
   "source": [
    "nxt=a.__iter__()"
   ]
  },
  {
   "cell_type": "code",
   "execution_count": 18,
   "id": "a95a692b",
   "metadata": {},
   "outputs": [
    {
     "name": "stdout",
     "output_type": "stream",
     "text": [
      "2\n",
      "4\n",
      "6\n",
      "8\n",
      "10\n"
     ]
    }
   ],
   "source": [
    "for i in a[:5]:\n",
    "    print(next(nxt))"
   ]
  },
  {
   "cell_type": "markdown",
   "id": "8746bd20",
   "metadata": {},
   "source": [
    "#### 4. What is a generator function in Python? Give an example of a generator function.\n"
   ]
  },
  {
   "cell_type": "markdown",
   "id": "d5563b5a",
   "metadata": {},
   "source": [
    "In Python, a generator is a function that returns(creates) an iterator using a yield statement, that produces a sequence of values when iterated over.\n",
    "Generators are useful when we want to produce a large sequence of values, but we don't want to store all of them in memory at once.\n",
    "range() is (by default) an example of generator function in Python.\n",
    "Each time the next() function is called upon the generator, it resumes from where it left-off(resumable functions)."
   ]
  },
  {
   "cell_type": "code",
   "execution_count": 217,
   "id": "8f76a496",
   "metadata": {},
   "outputs": [],
   "source": [
    "#example of a generator function\n",
    "def generateInts(n):\n",
    "    for i in range(n):\n",
    "        yield i\n",
    "        "
   ]
  },
  {
   "cell_type": "code",
   "execution_count": 219,
   "id": "22fd201a",
   "metadata": {},
   "outputs": [],
   "source": [
    "gen= generateInts(4)\n"
   ]
  },
  {
   "cell_type": "code",
   "execution_count": 220,
   "id": "637d23b4",
   "metadata": {},
   "outputs": [
    {
     "data": {
      "text/plain": [
       "0"
      ]
     },
     "execution_count": 220,
     "metadata": {},
     "output_type": "execute_result"
    }
   ],
   "source": [
    "next(gen)"
   ]
  },
  {
   "cell_type": "code",
   "execution_count": 221,
   "id": "5b98ee89",
   "metadata": {},
   "outputs": [
    {
     "data": {
      "text/plain": [
       "1"
      ]
     },
     "execution_count": 221,
     "metadata": {},
     "output_type": "execute_result"
    }
   ],
   "source": [
    "next(gen)"
   ]
  },
  {
   "cell_type": "code",
   "execution_count": 222,
   "id": "0844cff0",
   "metadata": {},
   "outputs": [
    {
     "data": {
      "text/plain": [
       "2"
      ]
     },
     "execution_count": 222,
     "metadata": {},
     "output_type": "execute_result"
    }
   ],
   "source": [
    "next(gen)"
   ]
  },
  {
   "cell_type": "code",
   "execution_count": 223,
   "id": "c3d15cd0",
   "metadata": {},
   "outputs": [
    {
     "data": {
      "text/plain": [
       "3"
      ]
     },
     "execution_count": 223,
     "metadata": {},
     "output_type": "execute_result"
    }
   ],
   "source": [
    "next(gen)"
   ]
  },
  {
   "cell_type": "markdown",
   "id": "018459a5",
   "metadata": {},
   "source": [
    "#### 5. Create a generator funtion for prime numbers less than 1000. Use next method to print the first 20 prime numbers."
   ]
  },
  {
   "cell_type": "code",
   "execution_count": 315,
   "id": "a75f3076",
   "metadata": {},
   "outputs": [
    {
     "name": "stdout",
     "output_type": "stream",
     "text": [
      "2\n",
      "3\n",
      "5\n",
      "7\n",
      "11\n",
      "13\n",
      "17\n",
      "19\n",
      "23\n",
      "29\n",
      "31\n",
      "37\n",
      "41\n",
      "43\n",
      "47\n",
      "53\n",
      "59\n",
      "61\n",
      "67\n",
      "71\n"
     ]
    }
   ],
   "source": [
    "\n",
    "def genPrime(n):\n",
    "    num,count=1,1\n",
    "    while count<=n:\n",
    "        num=nxtPrime(num)\n",
    "        yield num\n",
    "        count+=1\n",
    "\n",
    "def nxtPrime(num):\n",
    "    while True:\n",
    "        num+=1\n",
    "        for i in range(2,num):\n",
    "            if num%i==0:\n",
    "                break\n",
    "        else:\n",
    "            return num\n",
    "\n",
    "l=genPrime(1000)\n",
    "for i in range(20):\n",
    "    print(next(l))\n",
    "         \n",
    "        \n"
   ]
  },
  {
   "cell_type": "markdown",
   "id": "8d0f3a9b",
   "metadata": {},
   "source": [
    "#### 6. Write a Python program to print the first 10 Fibonacci numbers using a while loop."
   ]
  },
  {
   "attachments": {
    "fibonacci_concept.png": {
     "image/png": "[encoded data removed]"
    }
   },
   "cell_type": "markdown",
   "id": "37c1ac16",
   "metadata": {},
   "source": [
    "![fibonacci_concept.png](attachment:fibonacci_concept.png)"
   ]
  },
  {
   "cell_type": "code",
   "execution_count": 79,
   "id": "b3798787",
   "metadata": {},
   "outputs": [],
   "source": [
    "def test_fib():\n",
    "    a,b=0,1\n",
    "    while True:\n",
    "        yield a\n",
    "        a,b=b,a+b"
   ]
  },
  {
   "cell_type": "code",
   "execution_count": 82,
   "id": "45aeddb4",
   "metadata": {},
   "outputs": [],
   "source": [
    "fib=test_fib()"
   ]
  },
  {
   "cell_type": "code",
   "execution_count": 83,
   "id": "c8593264",
   "metadata": {},
   "outputs": [
    {
     "name": "stdout",
     "output_type": "stream",
     "text": [
      "0\n",
      "1\n",
      "1\n",
      "2\n",
      "3\n",
      "5\n",
      "8\n",
      "13\n",
      "21\n",
      "34\n"
     ]
    }
   ],
   "source": [
    "i=0\n",
    "while i<10:\n",
    "    print(next(fib))\n",
    "    i=i+1"
   ]
  },
  {
   "cell_type": "markdown",
   "id": "d73f35ed",
   "metadata": {},
   "source": [
    "#### 7. Write a list Comprehension to iterate through the given string: 'pwskills'\n",
    "EXPECTED OUTPUT:  ['p','w','s','k,'i','l','l','s']"
   ]
  },
  {
   "cell_type": "code",
   "execution_count": 91,
   "id": "6bedec90",
   "metadata": {},
   "outputs": [
    {
     "name": "stdout",
     "output_type": "stream",
     "text": [
      "['p', 'w', 's', 'k', 'i', 'l', 'l', 's']\n"
     ]
    }
   ],
   "source": [
    "s=\"pwskills\"\n",
    "l=[]\n",
    "[l.append(i) for i in s]\n",
    "print(l)"
   ]
  },
  {
   "cell_type": "markdown",
   "id": "da8c3364",
   "metadata": {},
   "source": [
    "#### 8. Write a program to check whether a given number is PALINDROME or not using a  while loop\n",
    "        "
   ]
  },
  {
   "cell_type": "code",
   "execution_count": 101,
   "id": "63a6b180",
   "metadata": {},
   "outputs": [
    {
     "name": "stdout",
     "output_type": "stream",
     "text": [
      "ENTER A NUMBER 9999\n",
      "9999 is a Palindrome\n"
     ]
    }
   ],
   "source": [
    "a= (input(\"ENTER A NUMBER \"))\n",
    "if a==a[::-1]:\n",
    "    print(f\"{a} is a Palindrome\")\n",
    "else:print(f\"{a} is not a Palindrome\")"
   ]
  },
  {
   "cell_type": "markdown",
   "id": "787fc47a",
   "metadata": {},
   "source": [
    "#### 9. Write a code to print odd numbers from 1 to 100 using list comprehension"
   ]
  },
  {
   "cell_type": "code",
   "execution_count": 129,
   "id": "b20af07b",
   "metadata": {},
   "outputs": [
    {
     "data": {
      "text/plain": [
       "[1,\n",
       " 3,\n",
       " 5,\n",
       " 7,\n",
       " 9,\n",
       " 11,\n",
       " 13,\n",
       " 15,\n",
       " 17,\n",
       " 19,\n",
       " 21,\n",
       " 23,\n",
       " 25,\n",
       " 27,\n",
       " 29,\n",
       " 31,\n",
       " 33,\n",
       " 35,\n",
       " 37,\n",
       " 39,\n",
       " 41,\n",
       " 43,\n",
       " 45,\n",
       " 47,\n",
       " 49,\n",
       " 51,\n",
       " 53,\n",
       " 55,\n",
       " 57,\n",
       " 59,\n",
       " 61,\n",
       " 63,\n",
       " 65,\n",
       " 67,\n",
       " 69,\n",
       " 71,\n",
       " 73,\n",
       " 75,\n",
       " 77,\n",
       " 79,\n",
       " 81,\n",
       " 83,\n",
       " 85,\n",
       " 87,\n",
       " 89,\n",
       " 91,\n",
       " 93,\n",
       " 95,\n",
       " 97,\n",
       " 99]"
      ]
     },
     "execution_count": 129,
     "metadata": {},
     "output_type": "execute_result"
    }
   ],
   "source": [
    "#list for creating 100 numbers\n",
    "b=[(i) for i in range(1,101)]\n",
    "\n",
    "#printing the result of another list comprehension\n",
    "[x for x in b  if x%2!=0]\n",
    "\n"
   ]
  }
 ],
 "metadata": {
  "kernelspec": {
   "display_name": "Python 3",
   "language": "python",
   "name": "python3"
  },
  "language_info": {
   "codemirror_mode": {
    "name": "ipython",
    "version": 3
   },
   "file_extension": ".py",
   "mimetype": "text/x-python",
   "name": "python",
   "nbconvert_exporter": "python",
   "pygments_lexer": "ipython3",
   "version": "3.9.5"
  }
 },
 "nbformat": 4,
 "nbformat_minor": 5
}
